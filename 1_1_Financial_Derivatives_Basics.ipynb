{
  "nbformat": 4,
  "nbformat_minor": 0,
  "metadata": {
    "colab": {
      "provenance": [],
      "authorship_tag": "ABX9TyOxwHVyl4yYj8FlOqDyvOQZ",
      "include_colab_link": true
    },
    "kernelspec": {
      "name": "python3",
      "display_name": "Python 3"
    },
    "language_info": {
      "name": "python"
    }
  },
  "cells": [
    {
      "cell_type": "markdown",
      "metadata": {
        "id": "view-in-github",
        "colab_type": "text"
      },
      "source": [
        "<a href=\"https://colab.research.google.com/github/Bhevendra/Derivative-Pricing/blob/main/1_1_Financial_Derivatives_Basics.ipynb\" target=\"_parent\"><img src=\"https://colab.research.google.com/assets/colab-badge.svg\" alt=\"Open In Colab\"/></a>"
      ]
    },
    {
      "cell_type": "markdown",
      "source": [
        "# Financial Derivatives Basics"
      ],
      "metadata": {
        "id": "-NgMOSaGVOLN"
      }
    },
    {
      "cell_type": "code",
      "execution_count": 1,
      "metadata": {
        "id": "WPo3QjlkH5Fy"
      },
      "outputs": [],
      "source": [
        "import numpy as np"
      ]
    },
    {
      "cell_type": "markdown",
      "source": [
        "### For Binomial tree\n",
        "Inputs data required -\n",
        "  - upward movement (**u**),\n",
        "  - downward movement (**d**),\n",
        "  - risk-free rate (**$r_f$**),\n",
        "  - time-horizon (**T**), and\n",
        "  - number of steps in the tree (**N**)\n",
        "\n",
        "Time-step (\\(dt\\))\n",
        "\n",
        "The time-step (\\(dt\\)) is a crucial concept in constructing a binomial tree. It represents the time interval between each step in the tree.\n",
        "\n",
        "#### Baseline Example\n",
        "\n",
        "In the baseline example from the slides:\n",
        "\n",
        "- The time-horizon \\(T\\) is 1 year.\n",
        "- There is 1 step in the tree (\\(N = 1\\)).\n",
        "\n",
        "Since there is only one step in a 1-year period, the time-step (\\(dt\\)) is clearly 1 year.\n",
        "\n",
        "#### General Case\n",
        "\n",
        "When the number of steps \\(N\\) or the time-horizon \\(T\\) changes, the time-step (\\(dt\\)) needs to be recalculated. The formula for the time-step in such cases is:\n",
        "\n",
        "$→$ $dt = T/N$.\n",
        "\n",
        "This formula divides the total time-horizon \\(T\\) by the number of steps \\(N\\) to find the length of each individual step.\n",
        "\n",
        "\n"
      ],
      "metadata": {
        "id": "uU-vOjyEIj1y"
      }
    },
    {
      "cell_type": "markdown",
      "source": [
        "## 1. Constructing a Binomial Tree"
      ],
      "metadata": {
        "id": "9UNl41YGOKe8"
      }
    },
    {
      "cell_type": "code",
      "source": [
        "def binomial_tree(S_ini, T, u, d, N):\n",
        "  S = np.zeros([N+1, N+1])\n",
        "  for i in range(0, N+1):\n",
        "    S[N, i] = S_ini *(u**i) * (d**(N-i))\n",
        "  for j in range(N-1, -1, -1):\n",
        "    for i in range(0, j+1):\n",
        "      S[j, i] = S_ini*(u**i) * (d**(j-i))\n",
        "  return S"
      ],
      "metadata": {
        "id": "ImFY5rJOIPLM"
      },
      "execution_count": 2,
      "outputs": []
    },
    {
      "cell_type": "markdown",
      "source": [
        "Note that we store everything in a variable, $S$, the one returned by the function. This variable will contain an array with the values of the stock price at each point in time in a lower triangular matrix.\n",
        "\n",
        "Let's check it by replicating the same tree for $N=2$"
      ],
      "metadata": {
        "id": "COD8-3D3Q709"
      }
    },
    {
      "cell_type": "code",
      "source": [
        "Stock = binomial_tree(100,1,1.2,0.8,3)\n",
        "Stock"
      ],
      "metadata": {
        "colab": {
          "base_uri": "https://localhost:8080/"
        },
        "id": "1oY6lMIgPKP-",
        "outputId": "060b3ac9-bfe6-4b92-8001-0afa7f892847"
      },
      "execution_count": 5,
      "outputs": [
        {
          "output_type": "execute_result",
          "data": {
            "text/plain": [
              "array([[100. ,   0. ,   0. ,   0. ],\n",
              "       [ 80. , 120. ,   0. ,   0. ],\n",
              "       [ 64. ,  96. , 144. ,   0. ],\n",
              "       [ 51.2,  76.8, 115.2, 172.8]])"
            ]
          },
          "metadata": {},
          "execution_count": 5
        }
      ]
    },
    {
      "cell_type": "markdown",
      "source": [
        "## 2. Extending the Tree with Call Option Payoffs\n",
        "\n",
        "Next, let's extend the previous function by adding another variable that computes the payoffs associated with a Call Option of certain characteristics. Note that we are focusing on a European Call Option with strike price $K=90$, and therefore the payoff is only computed at maturity:"
      ],
      "metadata": {
        "id": "kG52jxf1R6c-"
      }
    },
    {
      "cell_type": "code",
      "source": [
        "def binomial_tree_call(S_ini, K, T, u, d, N):\n",
        "    C = np.zeros([N + 1, N + 1])  # Call prices\n",
        "    S = np.zeros([N + 1, N + 1])  # Underlying price\n",
        "\n",
        "    for i in range(0, N + 1):\n",
        "        C[N, i] = max(S_ini * (u ** (i)) * (d ** (N - i)) - K, 0)\n",
        "        S[N, i] = S_ini * (u ** (i)) * (d ** (N - i))\n",
        "\n",
        "    for j in range(N - 1, -1, -1):\n",
        "        for i in range(0, j + 1):\n",
        "            S[j, i] = S_ini * (u ** (i)) * (d ** (j - i))\n",
        "\n",
        "    return S, C"
      ],
      "metadata": {
        "id": "1HvtaiMxRPuh"
      },
      "execution_count": 11,
      "outputs": []
    },
    {
      "cell_type": "markdown",
      "source": [
        "It is easy to see that the variable $C$ output by the function will return Call Option payoff at maturity. We can verify this by replicating the simple N=1 tree with Call option payoff"
      ],
      "metadata": {
        "id": "84uGXcJ5TPpV"
      }
    },
    {
      "cell_type": "code",
      "source": [
        "Stock, Call = binomial_tree_call(100, 90, 10, 1.2, 0.8, 10)\n",
        "print(\"Underlying Price Evolution:\\n\", Stock)\n",
        "print(\"Call Option Payoff:\\n\", Call)"
      ],
      "metadata": {
        "colab": {
          "base_uri": "https://localhost:8080/"
        },
        "id": "dYlHoziLTHsF",
        "outputId": "95354aec-b957-4e35-db0c-4a865aaddc9a"
      },
      "execution_count": 13,
      "outputs": [
        {
          "output_type": "stream",
          "name": "stdout",
          "text": [
            "Underlying Price Evolution:\n",
            " [[100.           0.           0.           0.           0.\n",
            "    0.           0.           0.           0.           0.\n",
            "    0.        ]\n",
            " [ 80.         120.           0.           0.           0.\n",
            "    0.           0.           0.           0.           0.\n",
            "    0.        ]\n",
            " [ 64.          96.         144.           0.           0.\n",
            "    0.           0.           0.           0.           0.\n",
            "    0.        ]\n",
            " [ 51.2         76.8        115.2        172.8          0.\n",
            "    0.           0.           0.           0.           0.\n",
            "    0.        ]\n",
            " [ 40.96        61.44        92.16       138.24       207.36\n",
            "    0.           0.           0.           0.           0.\n",
            "    0.        ]\n",
            " [ 32.768       49.152       73.728      110.592      165.888\n",
            "  248.832        0.           0.           0.           0.\n",
            "    0.        ]\n",
            " [ 26.2144      39.3216      58.9824      88.4736     132.7104\n",
            "  199.0656     298.5984       0.           0.           0.\n",
            "    0.        ]\n",
            " [ 20.97152     31.45728     47.18592     70.77888    106.16832\n",
            "  159.25248    238.87872    358.31808      0.           0.\n",
            "    0.        ]\n",
            " [ 16.777216    25.165824    37.748736    56.623104    84.934656\n",
            "  127.401984   191.102976   286.654464   429.981696     0.\n",
            "    0.        ]\n",
            " [ 13.4217728   20.1326592   30.1989888   45.2984832   67.9477248\n",
            "  101.9215872  152.8823808  229.3235712  343.9853568  515.9780352\n",
            "    0.        ]\n",
            " [ 10.73741824  16.10612736  24.15919104  36.23878656  54.35817984\n",
            "   81.53726976 122.30590464 183.45885696 275.18828544 412.78242816\n",
            "  619.17364224]]\n",
            "Call Option Payoff:\n",
            " [[  0.           0.           0.           0.           0.\n",
            "    0.           0.           0.           0.           0.\n",
            "    0.        ]\n",
            " [  0.           0.           0.           0.           0.\n",
            "    0.           0.           0.           0.           0.\n",
            "    0.        ]\n",
            " [  0.           0.           0.           0.           0.\n",
            "    0.           0.           0.           0.           0.\n",
            "    0.        ]\n",
            " [  0.           0.           0.           0.           0.\n",
            "    0.           0.           0.           0.           0.\n",
            "    0.        ]\n",
            " [  0.           0.           0.           0.           0.\n",
            "    0.           0.           0.           0.           0.\n",
            "    0.        ]\n",
            " [  0.           0.           0.           0.           0.\n",
            "    0.           0.           0.           0.           0.\n",
            "    0.        ]\n",
            " [  0.           0.           0.           0.           0.\n",
            "    0.           0.           0.           0.           0.\n",
            "    0.        ]\n",
            " [  0.           0.           0.           0.           0.\n",
            "    0.           0.           0.           0.           0.\n",
            "    0.        ]\n",
            " [  0.           0.           0.           0.           0.\n",
            "    0.           0.           0.           0.           0.\n",
            "    0.        ]\n",
            " [  0.           0.           0.           0.           0.\n",
            "    0.           0.           0.           0.           0.\n",
            "    0.        ]\n",
            " [  0.           0.           0.           0.           0.\n",
            "    0.          32.30590464  93.45885696 185.18828544 322.78242816\n",
            "  529.17364224]]\n"
          ]
        }
      ]
    },
    {
      "cell_type": "markdown",
      "source": [
        "## 3. Introducing Risk-Neutral Probabilities and backward induction of Call Option Value\n",
        "\n",
        "For the final part of this notebook, let's work with the risk-neutral probabilities. Once we have the probabilities, we can, by backward induction, calculate the value of the Call Option (given its future payoffs and the associated probabilities) at each node.\n",
        "\n",
        "Importantly, once we know the risk-neutral probabilities, the value of the Call Option at each node will depend on the expected payoff in the two potential future scenarios (up or down movements), discounted at risk-free. That is:\n",
        "\n",
        "$C_{t}= e^{-rdt}[p c_{t+1}^u + (1-p) c_{t+1}^d]$\n",
        "\n",
        "where $dt$ is the discounted period from one node to the next (**time-step**), and $c_{t+1}^u$ and $c_{t+1}^d$ are the **values of the Call option in the next period**. We will therefore have to start from the last period (maturity) and work backwards, hence the term backward induction.\n",
        "\n",
        "Note that we use $dt$ here because we are assuming there are a **bunch of periods (steps) in the tree from the initial date until maturity of the option**. Under the 1-step case, we can calculate risk-neutral probabilities, because $dt=T/N = 1/1 = 1 = T$:\n",
        "\n",
        "$p=\\frac{e^{rT}-d}{u-d}$\n",
        "\n",
        "Once we consider a different $dt$, we just need to modify $p$ accordingly:\n",
        "\n",
        "$p=\\frac{e^{rdt}-d}{u-d}$"
      ],
      "metadata": {
        "id": "sOQHtgLGUL--"
      }
    },
    {
      "cell_type": "code",
      "source": [
        "def binomial_call_full(S_ini, K, T, r, u, d, N):\n",
        "    dt = T / N  # Define time step\n",
        "    p = (np.exp(r * dt) - d) / (u - d)  # Risk neutral probabilities (probs)\n",
        "    C = np.zeros([N + 1, N + 1])  # Call prices\n",
        "    S = np.zeros([N + 1, N + 1])  # Underlying price\n",
        "    for i in range(0, N + 1):\n",
        "        C[N, i] = max(S_ini * (u ** (i)) * (d ** (N - i)) - K, 0)\n",
        "        S[N, i] = S_ini * (u ** (i)) * (d ** (N - i))\n",
        "    for j in range(N - 1, -1, -1):\n",
        "        for i in range(0, j + 1):\n",
        "            C[j, i] = np.exp(-r * dt) * (p * C[j + 1, i + 1] + (1 - p) * C[j + 1, i])\n",
        "            S[j, i] = S_ini * (u ** (i)) * (d ** (j - i))\n",
        "    return C[0, 0], C, S"
      ],
      "metadata": {
        "id": "GgrdD9HMTUth"
      },
      "execution_count": 14,
      "outputs": []
    },
    {
      "cell_type": "markdown",
      "source": [
        "Notice that since we are doing backward induction, the first value of the Call Option Payoff matrix (the last we calculate) is the price of the Call Option today.\n",
        "\n",
        "Let's replicate with the values from the example in the slides to check it:"
      ],
      "metadata": {
        "id": "M1Gp5IVSU_Mk"
      }
    },
    {
      "cell_type": "code",
      "source": [
        "call_price, C, S = binomial_call_full(100, 90, 10, 0, 1.2, 0.8, 10)\n",
        "print(\"Underlying Price Evolution:\\n\", S)\n",
        "print(\"Call Option Payoff:\\n\", C)\n",
        "print(\"Call Option Price at t=0: \", \"{:.2f}\".format(call_price))"
      ],
      "metadata": {
        "colab": {
          "base_uri": "https://localhost:8080/"
        },
        "id": "ahyY7KGZU75e",
        "outputId": "5efc3627-e7e7-4100-84e7-b913c73710ff"
      },
      "execution_count": 15,
      "outputs": [
        {
          "output_type": "stream",
          "name": "stdout",
          "text": [
            "Underlying Price Evolution:\n",
            " [[100.           0.           0.           0.           0.\n",
            "    0.           0.           0.           0.           0.\n",
            "    0.        ]\n",
            " [ 80.         120.           0.           0.           0.\n",
            "    0.           0.           0.           0.           0.\n",
            "    0.        ]\n",
            " [ 64.          96.         144.           0.           0.\n",
            "    0.           0.           0.           0.           0.\n",
            "    0.        ]\n",
            " [ 51.2         76.8        115.2        172.8          0.\n",
            "    0.           0.           0.           0.           0.\n",
            "    0.        ]\n",
            " [ 40.96        61.44        92.16       138.24       207.36\n",
            "    0.           0.           0.           0.           0.\n",
            "    0.        ]\n",
            " [ 32.768       49.152       73.728      110.592      165.888\n",
            "  248.832        0.           0.           0.           0.\n",
            "    0.        ]\n",
            " [ 26.2144      39.3216      58.9824      88.4736     132.7104\n",
            "  199.0656     298.5984       0.           0.           0.\n",
            "    0.        ]\n",
            " [ 20.97152     31.45728     47.18592     70.77888    106.16832\n",
            "  159.25248    238.87872    358.31808      0.           0.\n",
            "    0.        ]\n",
            " [ 16.777216    25.165824    37.748736    56.623104    84.934656\n",
            "  127.401984   191.102976   286.654464   429.981696     0.\n",
            "    0.        ]\n",
            " [ 13.4217728   20.1326592   30.1989888   45.2984832   67.9477248\n",
            "  101.9215872  152.8823808  229.3235712  343.9853568  515.9780352\n",
            "    0.        ]\n",
            " [ 10.73741824  16.10612736  24.15919104  36.23878656  54.35817984\n",
            "   81.53726976 122.30590464 183.45885696 275.18828544 412.78242816\n",
            "  619.17364224]]\n",
            "Call Option Payoff:\n",
            " [[2.93845445e+01 0.00000000e+00 0.00000000e+00 0.00000000e+00\n",
            "  0.00000000e+00 0.00000000e+00 0.00000000e+00 0.00000000e+00\n",
            "  0.00000000e+00 0.00000000e+00 0.00000000e+00]\n",
            " [1.57572106e+01 4.30118784e+01 0.00000000e+00 0.00000000e+00\n",
            "  0.00000000e+00 0.00000000e+00 0.00000000e+00 0.00000000e+00\n",
            "  0.00000000e+00 0.00000000e+00 0.00000000e+00]\n",
            " [7.17743934e+00 2.43369819e+01 6.16867749e+01 0.00000000e+00\n",
            "  0.00000000e+00 0.00000000e+00 0.00000000e+00 0.00000000e+00\n",
            "  0.00000000e+00 0.00000000e+00 0.00000000e+00]\n",
            " [2.49687648e+00 1.18580022e+01 3.68159616e+01 8.65575882e+01\n",
            "  0.00000000e+00 0.00000000e+00 0.00000000e+00 0.00000000e+00\n",
            "  0.00000000e+00 0.00000000e+00 0.00000000e+00]\n",
            " [5.04779760e-01 4.48897320e+00 1.92270312e+01 5.44048920e+01\n",
            "  1.18710284e+02 0.00000000e+00 0.00000000e+00 0.00000000e+00\n",
            "  0.00000000e+00 0.00000000e+00 0.00000000e+00]\n",
            " [0.00000000e+00 1.00955952e+00 7.96838688e+00 3.04856755e+01\n",
            "  7.83241085e+01 1.59096460e+02 0.00000000e+00 0.00000000e+00\n",
            "  0.00000000e+00 0.00000000e+00 0.00000000e+00]\n",
            " [0.00000000e+00 0.00000000e+00 2.01911904e+00 1.39176547e+01\n",
            "  4.70536963e+01 1.09594521e+02 2.08598400e+02 0.00000000e+00\n",
            "  0.00000000e+00 0.00000000e+00 0.00000000e+00]\n",
            " [0.00000000e+00 0.00000000e+00 0.00000000e+00 4.03823808e+00\n",
            "  2.37970714e+01 7.03103213e+01 1.48878720e+02 2.68318080e+02\n",
            "  0.00000000e+00 0.00000000e+00 0.00000000e+00]\n",
            " [0.00000000e+00 0.00000000e+00 0.00000000e+00 0.00000000e+00\n",
            "  8.07647616e+00 3.95176666e+01 1.01102976e+02 1.96654464e+02\n",
            "  3.39981696e+02 0.00000000e+00 0.00000000e+00]\n",
            " [0.00000000e+00 0.00000000e+00 0.00000000e+00 0.00000000e+00\n",
            "  0.00000000e+00 1.61529523e+01 6.28823808e+01 1.39323571e+02\n",
            "  2.53985357e+02 4.25978035e+02 0.00000000e+00]\n",
            " [0.00000000e+00 0.00000000e+00 0.00000000e+00 0.00000000e+00\n",
            "  0.00000000e+00 0.00000000e+00 3.23059046e+01 9.34588570e+01\n",
            "  1.85188285e+02 3.22782428e+02 5.29173642e+02]]\n",
            "Call Option Price at t=0:  29.38\n"
          ]
        }
      ]
    }
  ]
}