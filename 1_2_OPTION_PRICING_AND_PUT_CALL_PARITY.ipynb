{
  "nbformat": 4,
  "nbformat_minor": 0,
  "metadata": {
    "colab": {
      "provenance": [],
      "authorship_tag": "ABX9TyOptxF2RzXLsTdbdj53tsBY",
      "include_colab_link": true
    },
    "kernelspec": {
      "name": "python3",
      "display_name": "Python 3"
    },
    "language_info": {
      "name": "python"
    }
  },
  "cells": [
    {
      "cell_type": "markdown",
      "metadata": {
        "id": "view-in-github",
        "colab_type": "text"
      },
      "source": [
        "<a href=\"https://colab.research.google.com/github/Bhevendra/Derivative-Pricing/blob/main/1_2_OPTION_PRICING_AND_PUT_CALL_PARITY.ipynb\" target=\"_parent\"><img src=\"https://colab.research.google.com/assets/colab-badge.svg\" alt=\"Open In Colab\"/></a>"
      ]
    },
    {
      "cell_type": "code",
      "execution_count": 1,
      "metadata": {
        "id": "uDCiJ99ScEY8"
      },
      "outputs": [],
      "source": [
        "import numpy as np"
      ]
    },
    {
      "cell_type": "markdown",
      "source": [
        "##1. Bionomial Tree for PUT Options"
      ],
      "metadata": {
        "id": "EfaUj5f3civg"
      }
    },
    {
      "cell_type": "code",
      "source": [
        "def binomial_call_full(S_ini, K, T, r, u, d, N):\n",
        "  dt = T/N\n",
        "  p = (np.exp(r*dt)-d)/(u-d)\n",
        "  C = np.zeros([N+1, N+1])\n",
        "  S = np.zeros([N+1, N+1])\n",
        "\n",
        "  for i in range(0, N+1):\n",
        "    C[N,i] = max(S_ini*(u**(i))*(d**(N-i))-K,0)\n",
        "    S[N,i] = S_ini*(u**i)*(d**(N-i))\n",
        "\n",
        "  for j in range(N-1, -1, -1):\n",
        "    for i in range(0, j+1):\n",
        "      C[j,i] = np.exp(-r*dt)*(p*C[j+1,i+1]+(1-p)*C[j+1,i])\n",
        "      S[j,i] = S_ini*(u**(i))*d**(j-i)\n",
        "\n",
        "  return C[0,0], C, S\n"
      ],
      "metadata": {
        "id": "g_U3O5qCcfqe"
      },
      "execution_count": 7,
      "outputs": []
    },
    {
      "cell_type": "code",
      "source": [
        "def binomial_put_full(S_ini, K, T, r, u, d, N):\n",
        "    dt = T / N  # Define time step\n",
        "    p = (np.exp(r * dt) - d) / (u - d)  # Risk neutral probs\n",
        "    P = np.zeros([N + 1, N + 1])  # Call prices\n",
        "    S = np.zeros([N + 1, N + 1])  # Underlying price\n",
        "    for i in range(0, N + 1):\n",
        "        P[N, i] = max(K - (S_ini * (u ** (i)) * (d ** (N - i))), 0)\n",
        "        S[N, i] = S_ini * (u ** (i)) * (d ** (N - i))\n",
        "    for j in range(N - 1, -1, -1):\n",
        "        for i in range(0, j + 1):\n",
        "            P[j, i] = np.exp(-r * dt) * (p * P[j + 1, i + 1] + (1 - p) * P[j + 1, i])\n",
        "            S[j, i] = S_ini * (u ** (i)) * (d ** (j - i))\n",
        "    return P[0, 0], P, S"
      ],
      "metadata": {
        "id": "w4ViUItPfT1H"
      },
      "execution_count": 3,
      "outputs": []
    },
    {
      "cell_type": "code",
      "source": [
        "put_price, P, S = binomial_put_full(36, 36, 50, 0.01, 1.1, 0.7, 50)\n",
        "print(\"Underlying Price Evolution:\\n\", S)\n",
        "print(\"Put Option Payoff:\\n\", P)\n",
        "print(\"Price at t=0 for Put option is$\", \"{:.2f}\".format(put_price))"
      ],
      "metadata": {
        "colab": {
          "base_uri": "https://localhost:8080/"
        },
        "id": "_569ax-YfgNo",
        "outputId": "e5732972-1684-4a63-878f-56c4db5d66e8"
      },
      "execution_count": 4,
      "outputs": [
        {
          "output_type": "stream",
          "name": "stdout",
          "text": [
            "Underlying Price Evolution:\n",
            " [[3.60000000e+01 0.00000000e+00 0.00000000e+00 ... 0.00000000e+00\n",
            "  0.00000000e+00 0.00000000e+00]\n",
            " [2.52000000e+01 3.96000000e+01 0.00000000e+00 ... 0.00000000e+00\n",
            "  0.00000000e+00 0.00000000e+00]\n",
            " [1.76400000e+01 2.77200000e+01 4.35600000e+01 ... 0.00000000e+00\n",
            "  0.00000000e+00 0.00000000e+00]\n",
            " ...\n",
            " [1.32132126e-06 2.07636197e-06 3.26285453e-06 ... 3.49262042e+03\n",
            "  0.00000000e+00 0.00000000e+00]\n",
            " [9.24924879e-07 1.45345338e-06 2.28399817e-06 ... 2.44483429e+03\n",
            "  3.84188246e+03 0.00000000e+00]\n",
            " [6.47447415e-07 1.01741737e-06 1.59879872e-06 ... 1.71138400e+03\n",
            "  2.68931772e+03 4.22607070e+03]]\n",
            "Put Option Payoff:\n",
            " [[ 7.5822903   0.          0.         ...  0.          0.\n",
            "   0.        ]\n",
            " [ 9.54336876  7.11166527  0.         ...  0.          0.\n",
            "   0.        ]\n",
            " [11.63290642  9.06090302  6.63837335 ...  0.          0.\n",
            "   0.        ]\n",
            " ...\n",
            " [35.28715092 35.28715016 35.28714898 ...  0.          0.\n",
            "   0.        ]\n",
            " [35.64179309 35.64179256 35.64179173 ...  0.          0.\n",
            "   0.        ]\n",
            " [35.99999935 35.99999898 35.9999984  ...  0.          0.\n",
            "   0.        ]]\n",
            "Price at t=0 for Put option is$ 7.58\n"
          ]
        }
      ]
    },
    {
      "cell_type": "markdown",
      "source": [
        "##2. Put-Call Parity in the Binomial Tree"
      ],
      "metadata": {
        "id": "QoFi-9rvfo5T"
      }
    },
    {
      "cell_type": "code",
      "source": [
        "put_price, P, S = binomial_put_full(100, 90, 10, 0, 1.2, 0.8, 10)\n",
        "print(\"Price at t=0 for Put option is $\", \"{:.2f}\".format(put_price))\n",
        "call_price, C, S = binomial_call_full(100, 90, 10, 0, 1.2, 0.8, 10)\n",
        "print(\"Price at t=0 for Call option is $\", \"{:.2f}\".format(call_price))"
      ],
      "metadata": {
        "colab": {
          "base_uri": "https://localhost:8080/"
        },
        "id": "qIpETyx4fi7H",
        "outputId": "a4ac48d7-8e81-4e49-86f3-662dc9445d4e"
      },
      "execution_count": 8,
      "outputs": [
        {
          "output_type": "stream",
          "name": "stdout",
          "text": [
            "Price at t=0 for Put option is $ 19.38\n",
            "Price at t=0 for Call option is $ 29.38\n"
          ]
        }
      ]
    },
    {
      "cell_type": "markdown",
      "source": [
        "We already know that in order to satisfy absence of arbitrage conditions, the relationship between the price of the put and the call options must be:\n",
        "\n",
        "$C_0 + Ke^{-rT} = S_0 + P_0$\n",
        "\n",
        "Let's check whether this is the case for t=0:"
      ],
      "metadata": {
        "id": "AutAAoO3gLT9"
      }
    },
    {
      "cell_type": "code",
      "source": [
        "round(call_price + 90 * np.exp(-0 * 1), 2) == round(S[0, 0] + put_price, 2)"
      ],
      "metadata": {
        "colab": {
          "base_uri": "https://localhost:8080/"
        },
        "id": "Z274hlHCf9BV",
        "outputId": "0e124705-2d2d-4d11-c6b9-7f5f21461b5d"
      },
      "execution_count": 9,
      "outputs": [
        {
          "output_type": "execute_result",
          "data": {
            "text/plain": [
              "True"
            ]
          },
          "metadata": {},
          "execution_count": 9
        }
      ]
    },
    {
      "cell_type": "markdown",
      "source": [
        "We have verified that the put-call parity here holds perfectly at t=0. The question that arises now is does this behavior also hold at other nodes of the tree (other times)?\n",
        "\n",
        "In order to check this, let's first increase the number of steps of the binomial tree to N=2:"
      ],
      "metadata": {
        "id": "eJx6l5b1gQdt"
      }
    },
    {
      "cell_type": "code",
      "source": [
        "put_price, P, S = binomial_put_full(100, 90, 1, 0, 1.2, 0.8, 2)\n",
        "print(\"Price at t=0 for Put option is $\", \"{:.2f}\".format(put_price))\n",
        "call_price, C, S = binomial_call_full(100, 90, 1, 0, 1.2, 0.8, 2)\n",
        "print(\"Price at t=0 for Call option is $\", \"{:.2f}\".format(call_price))"
      ],
      "metadata": {
        "colab": {
          "base_uri": "https://localhost:8080/"
        },
        "id": "MAxD7JLPgT3u",
        "outputId": "249aa020-d963-4eac-9114-0a3f06a3dc7c"
      },
      "execution_count": 10,
      "outputs": [
        {
          "output_type": "stream",
          "name": "stdout",
          "text": [
            "Price at t=0 for Put option is $ 6.50\n",
            "Price at t=0 for Call option is $ 16.50\n"
          ]
        }
      ]
    },
    {
      "cell_type": "markdown",
      "source": [
        "For completeness, let's start verifying Put-Call parity at t=0:"
      ],
      "metadata": {
        "id": "9vDMzSD1gXgW"
      }
    },
    {
      "cell_type": "code",
      "source": [
        "round(call_price + 90 * np.exp(-0 * 1), 2) == round(S[0, 0] + put_price, 2)"
      ],
      "metadata": {
        "colab": {
          "base_uri": "https://localhost:8080/"
        },
        "id": "0tTXEnj6gNuu",
        "outputId": "ca189b8f-bacf-4161-b1fc-4633f467d42e"
      },
      "execution_count": 11,
      "outputs": [
        {
          "output_type": "execute_result",
          "data": {
            "text/plain": [
              "True"
            ]
          },
          "metadata": {},
          "execution_count": 11
        }
      ]
    },
    {
      "cell_type": "markdown",
      "source": [
        "Now, let's check the same thing for some other node of the two-step tree. Remember that this is the evolution of underlying prices and option payoffs:"
      ],
      "metadata": {
        "id": "R80Oh9KEgeUu"
      }
    },
    {
      "cell_type": "code",
      "source": [
        "print(\"Underlying Price Evolution:\\n\", S)\n",
        "print(\"Call Option Payoff:\\n\", C)\n",
        "print(\"Put Option Payoff:\\n\", P)"
      ],
      "metadata": {
        "colab": {
          "base_uri": "https://localhost:8080/"
        },
        "id": "vqHM7CBAgZ8y",
        "outputId": "dae4f0d0-bf35-44b9-e57e-ee18cba85eae"
      },
      "execution_count": 13,
      "outputs": [
        {
          "output_type": "stream",
          "name": "stdout",
          "text": [
            "Underlying Price Evolution:\n",
            " [[100.   0.   0.]\n",
            " [ 80. 120.   0.]\n",
            " [ 64.  96. 144.]]\n",
            "Call Option Payoff:\n",
            " [[16.5  0.   0. ]\n",
            " [ 3.  30.   0. ]\n",
            " [ 0.   6.  54. ]]\n",
            "Put Option Payoff:\n",
            " [[ 6.5  0.   0. ]\n",
            " [13.   0.   0. ]\n",
            " [26.   0.   0. ]]\n"
          ]
        }
      ]
    },
    {
      "cell_type": "markdown",
      "source": [
        "Let's check put-call parity for the node following path 'd' (underlying price S_d = 80), which we can index as [1,0] in the matrix S:"
      ],
      "metadata": {
        "id": "HuZ9B-ehglvN"
      }
    },
    {
      "cell_type": "code",
      "source": [
        "round(C[1, 0] + 90 * np.exp(-0 * 0.5), 2) == round(S[1, 0] + P[1, 0], 2)"
      ],
      "metadata": {
        "colab": {
          "base_uri": "https://localhost:8080/"
        },
        "id": "_jCswG-FglbF",
        "outputId": "cf63ae8a-c98d-49d6-8402-925c0e94c1bd"
      },
      "execution_count": 14,
      "outputs": [
        {
          "output_type": "execute_result",
          "data": {
            "text/plain": [
              "True"
            ]
          },
          "metadata": {},
          "execution_count": 14
        }
      ]
    },
    {
      "cell_type": "code",
      "source": [],
      "metadata": {
        "id": "65h0dkd3gdfy"
      },
      "execution_count": null,
      "outputs": []
    }
  ]
}